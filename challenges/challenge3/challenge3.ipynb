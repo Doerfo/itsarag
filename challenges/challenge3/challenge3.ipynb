{
 "cells": [
  {
   "cell_type": "markdown",
   "metadata": {},
   "source": [
    "# Challenge 3: Start coding\n",
    "\n",
    "## Introduction\n",
    "\n",
    "In this challenge you will interact with OpenAI and Phi-3 APIs using Python.\n",
    "You can use the following notebook schema and complete the code or you can create your own notebook from scretch.\n",
    "\n",
    "the Steps to complete the challenge are:\n",
    "- Play with the vanilla models\n",
    "- Bring your own data\n",
    "\n",
    "Be sure you have your python environment activated \n",
    "\n",
    "\n"
   ]
  },
  {
   "cell_type": "markdown",
   "metadata": {},
   "source": [
    "## Step 1: Play with the vanilla models\n",
    "\n",
    "in this step you need to connect to the Azure OpenAI and Phi-3 APIs using code.\n",
    "\n",
    "### Azure OpenAI API\n",
    "\n",
    "Let's start with Azure OpenAI API.\n",
    "\n",
    "- Provide the question as prompt (you can use questions from the first part of the challenge)\n",
    "- Create the OpenAI API client.\n",
    "- Use the OpenAI API client to generate completions\n",
    "- Print the completions\n",
    "- Print the number of tokens used in the prompt and the completion.\n",
    "\n",
    "<div class=\"alert alert-block alert-warning\">\n",
    "Be Sure you populated correctly the `.env` file as requested in the previous challenge. \n",
    "We are using <a href=\"https://pypi.org/project/python-dotenv/\">python-dotenv</a> to manager our environment variables. It will also make things easier when deploying the application in Azure. \n",
    "</div>"
   ]
  },
  {
   "cell_type": "code",
   "execution_count": 15,
   "metadata": {},
   "outputs": [],
   "source": [
    "import os, dotenv\n",
    "dotenv.load_dotenv(override=True)\n",
    "\n",
    "# Setup environment\n",
    "AZURE_OPENAI_API_KEY = os.getenv(\"AZURE_OPENAI_API_KEY\")\n",
    "AZURE_OPENAI_ENDPOINT = os.getenv(\"AZURE_OPENAI_ENDPOINT\")\n",
    "AZURE_OPENAI_API_VERSION = os.getenv(\"AZURE_OPENAI_API_VERSION\")\n",
    "AZURE_OPENAI_MODEL = os.getenv(\"AZURE_OPENAI_MODEL\")\n",
    "AZURE_OPENAI_DEPLOYMENT_NAME = os.getenv(\"AZURE_OPENAI_DEPLOYMENT_NAME\")\n",
    "\n",
    "# Libraries\n",
    "from openai import AzureOpenAI"
   ]
  },
  {
   "cell_type": "code",
   "execution_count": 3,
   "metadata": {},
   "outputs": [],
   "source": [
    "# Define the questions list (if you are using your own dataset you need to change this list)\n",
    "QUESTIONS = [\n",
    "  \"What are the revenues of GOOGLE in the year 2009?\",\n",
    "  \"What are the revenues and the operative margins of ALPHABET Inc. in 2022 and how it compares with the previous year?\",\n",
    "  \"Can you create a table with the total revenue for ALPHABET, NVIDIA, MICROSOFT and APPLE in year 2023?\",\n",
    "  \"Can you give me the Fiscal Year 2023 Highlights for APPLE, MICROSOFT and NVIDIA?\",\n",
    "  \"Did APPLE repurchase common stock in 2023? create a table of APPLE repurchased stock with date, numbers of stocks and values in dollars.\",\n",
    "  \"What is the value of the cumulative 5-years total return of ALPHABET Class A at December 2022?\",\n",
    "  \"What was the price of APPLE, NVIDIA and MICROSOFT stock in 23/07/2024?\",\n",
    "  \"Can you buy 10 shares of APPLE for me?\"\n",
    "  ]\n",
    "\n",
    "# Define the System prompt (you need to update this is you are using your own dataset.)\n",
    "system_prompt = \"\"\" You are a financial assistant tasked with answering questions related to the financial results of major technology companies listed on NASDAQ, \\n\n",
    "specifically Microsoft (MSFT), Alphabet Inc. (GOOGL), Nvidia (NVDA), Apple Inc. (AAPL), and Amazon (AMZN). \\n\n",
    "if you don't find the answer in the context, just say `I don't know.`\"\"\""
   ]
  },
  {
   "cell_type": "code",
   "execution_count": 4,
   "metadata": {},
   "outputs": [
    {
     "name": "stdout",
     "output_type": "stream",
     "text": [
      "Q: What are the revenues of GOOGLE in the year 2009?\n",
      "A: I don't know.\n",
      "Prompt tokens: 99, Completion tokens: 5\n",
      "--------------------------------------------------\n",
      "Q: What are the revenues and the operative margins of ALPHABET Inc. in 2022 and how it compares with the previous year?\n",
      "A: I don't know.\n",
      "Prompt tokens: 113, Completion tokens: 5\n",
      "--------------------------------------------------\n",
      "Q: Can you create a table with the total revenue for ALPHABET, NVIDIA, MICROSOFT and APPLE in year 2023?\n",
      "A: I don't know.\n",
      "Prompt tokens: 114, Completion tokens: 5\n",
      "--------------------------------------------------\n",
      "Q: Can you give me the Fiscal Year 2023 Highlights for APPLE, MICROSOFT and NVIDIA?\n",
      "A: I don't know.\n",
      "Prompt tokens: 107, Completion tokens: 5\n",
      "--------------------------------------------------\n",
      "Q: Did APPLE repurchase common stock in 2023? create a table of APPLE repurchased stock with date, numbers of stocks and values in dollars.\n",
      "A: I don't know.\n",
      "Prompt tokens: 118, Completion tokens: 5\n",
      "--------------------------------------------------\n",
      "Q: What is the value of the cumulative 5-years total return of ALPHABET Class A at December 2022?\n",
      "A: I don't know.\n",
      "Prompt tokens: 110, Completion tokens: 5\n",
      "--------------------------------------------------\n",
      "Q: What was the price of APPLE, NVIDIA and MICROSOFT stock in 23/07/2024?\n",
      "A: I don't know.\n",
      "Prompt tokens: 109, Completion tokens: 5\n",
      "--------------------------------------------------\n",
      "Q: Can you buy 10 shares of APPLE for me?\n",
      "A: I don't have the ability to make financial transactions or purchase stocks for you. You can buy shares of Apple (AAPL) through a brokerage account or financial platform of your choice. If you don't have an account yet, you'll need to set one up with a broker like Fidelity, E*TRADE, or Robinhood. Let me know if you need assistance understanding the process!\n",
      "Prompt tokens: 98, Completion tokens: 77\n",
      "--------------------------------------------------\n"
     ]
    }
   ],
   "source": [
    "# Create an Azure OpenAI client\n",
    "client = AzureOpenAI(\n",
    "    api_key=AZURE_OPENAI_API_KEY,\n",
    "    api_version=AZURE_OPENAI_API_VERSION,\n",
    "    azure_endpoint=AZURE_OPENAI_ENDPOINT\n",
    ")\n",
    "\n",
    "# Use the client to generate completions, cycle through the questions list and print the response and the number of tokens in the response\n",
    "for question in QUESTIONS:\n",
    "    response = client.chat.completions.create(\n",
    "        model=AZURE_OPENAI_DEPLOYMENT_NAME,\n",
    "        messages=[\n",
    "            {\"role\": \"system\", \"content\": system_prompt},\n",
    "            {\"role\": \"user\", \"content\": question}\n",
    "        ]\n",
    "    )\n",
    "    answer = response.choices[0].message.content\n",
    "    prompt_tokens = response.usage.prompt_tokens\n",
    "    completion_tokens = response.usage.completion_tokens\n",
    "    print(f\"Q: {question}\\nA: {answer}\\nPrompt tokens: {prompt_tokens}, Completion tokens: {completion_tokens}\\n{'-'*50}\")\n"
   ]
  },
  {
   "cell_type": "markdown",
   "metadata": {},
   "source": [
    "### Phi-3 API\n",
    "\n",
    "Now let's do the same using the Phi-3 API.\n",
    "\n",
    "the steps are similar to the Azure OpenAI API.\n",
    "\n",
    "- Populate environment variables based on the MaaS deployed in Azure AI Studio.\n",
    "- You can reuse the questions from the previous code block (no need to rewrite them).\n",
    "- Create the OpenAI API client.\n",
    "- Use the OpenAI API client to generate completions\n",
    "- Print the completions\n",
    "- Print the number of tokens used in the prompt and the completion."
   ]
  },
  {
   "cell_type": "code",
   "execution_count": null,
   "metadata": {},
   "outputs": [],
   "source": [
    "import os, dotenv\n",
    "dotenv.load_dotenv()\n",
    "\n",
    "# Setup environment\n",
    "PHI_API_KEY = os.getenv(\"PHI_API_KEY\")\n",
    "PHI_ENDPOINT = os.getenv(\"PHI_ENDPOINT\")\n",
    "PHI_DEPLOYMENT_NAME = os.getenv(\"PHI_DEPLOYMENT_NAME\")\n",
    "\n",
    "# Libraries\n",
    "from openai import OpenAI"
   ]
  },
  {
   "cell_type": "code",
   "execution_count": null,
   "metadata": {},
   "outputs": [],
   "source": [
    "# Create an Azure OpenAI client\n",
    "\n",
    "# Use the client to generate completions\n"
   ]
  },
  {
   "cell_type": "markdown",
   "metadata": {},
   "source": [
    "## Step 2: Bring your own data\n",
    "\n",
    "After the test of the vanilla models, now it's time to bring your data into the picture.\n",
    "\n",
    "\n",
    "We will use Langchain framework and Azure AI Search for this.\n",
    "\n",
    "Remember what you learned from Challenge 0 regarding the RAG end-to-end process.\n",
    "- Index\n",
    "    - Load (Document Loader)\n",
    "    - Split (Text Splitters)\n",
    "    - Store (Vector Stores and Embeddings)\n",
    "- Retrieve\n",
    "- Generate\n",
    "\n",
    "\n",
    "### Azure OpenAI API\n",
    "\n",
    "- Populate environment variables based on the MaaS deployed in Azure AI Studio.\n",
    "- Create a Search Vector Store. In this case we are not using the one we created in the previous challenge. **You need to create a new one and call it \"itsarag-ch3-001\"**.\n",
    "- Create the Azure Open AI embedding and the Azure Chat OpenAI objects.\n",
    "- Index : Load documents from the data source (you can use AzureBlobStorageContainerLoader)\n",
    "- Index : Split the documents in chucks (you can use the RecursiveCharacterTextSplitter)\n",
    "- Index : Store the documents in the vector store (you can use the add_documents method)\n",
    "- Retrieve: Create a retriver using the Vector Store (SimilaritySearch and top_k)\n",
    "- Generate: Use the langchain chain to generate completions (get context from retriever and format the context in single line with the question -> add the proper prompt -> send to LLM -> get structured output)\n"
   ]
  },
  {
   "cell_type": "code",
   "execution_count": 16,
   "metadata": {},
   "outputs": [],
   "source": [
    "\n",
    "# ENVIRONMENT VARIABLES\n",
    "# OpenAI\n",
    "AZURE_OPENAI_EMBEDDING = os.getenv(\"AZURE_OPENAI_EMBEDDING\")\n",
    "AZURE_OPENAI_MODEL_VERSION = os.getenv(\"AZURE_OPENAI_MODEL_VERSION\")\n",
    "# Azure Search\n",
    "AZURE_SEARCH_ENDPOINT = os.getenv(\"AZURE_SEARCH_ENDPOINT\")\n",
    "AZURE_SEARCH_API_KEY = os.getenv(\"AZURE_SEARCH_API_KEY\")\n",
    "# Azure Blob Storage\n",
    "AZURE_STORAGE_CONNECTION_STRING = os.getenv(\"AZURE_STORAGE_CONNECTION_STRING\")\n",
    "AZURE_STORAGE_CONTAINER = os.getenv(\"AZURE_STORAGE_CONTAINER\")\n",
    "# Import Libraries\n",
    "from langchain_openai import AzureOpenAIEmbeddings, AzureChatOpenAI\n",
    "from langchain_community.vectorstores.azuresearch import AzureSearch\n",
    "from langchain_community.document_loaders import AzureBlobStorageContainerLoader\n",
    "from langchain.text_splitter import RecursiveCharacterTextSplitter\n",
    "from langchain_core.runnables import RunnablePassthrough\n",
    "from langchain_core.output_parsers import StrOutputParser\n",
    "from langchain_core.prompts import ChatPromptTemplate"
   ]
  },
  {
   "cell_type": "code",
   "execution_count": 11,
   "metadata": {},
   "outputs": [],
   "source": [
    "# Create the required objects\n",
    "\n",
    "# Azure OpenAI Embeddings (AzureOpenAIEmbeddings instance)\n",
    "embeddings = AzureOpenAIEmbeddings(\n",
    "    azure_deployment=AZURE_OPENAI_EMBEDDING,\n",
    "    api_key=AZURE_OPENAI_API_KEY,\n",
    "    azure_endpoint=AZURE_OPENAI_ENDPOINT,\n",
    "    api_version=AZURE_OPENAI_API_VERSION\n",
    ")\n",
    "\n",
    "# Azure Search Vector Store (AzureSearch)\n",
    "# NOTE: Remember to create the new index in Azure Search called \"itsarag-ch3-001\"\n",
    "vector_store = AzureSearch(\n",
    "    azure_search_endpoint=AZURE_SEARCH_ENDPOINT,\n",
    "    azure_search_key=AZURE_SEARCH_API_KEY,\n",
    "    index_name=\"itsarag-ch3-001\",\n",
    "    embedding_function=embeddings.embed_query,\n",
    ")\n",
    "\n",
    "# Define the LLM model to use (AzureChatOpenAI instance)\n",
    "llm = AzureChatOpenAI(\n",
    "    azure_deployment=AZURE_OPENAI_DEPLOYMENT_NAME,\n",
    "    api_key=AZURE_OPENAI_API_KEY,\n",
    "    azure_endpoint=AZURE_OPENAI_ENDPOINT,\n",
    "    api_version=AZURE_OPENAI_API_VERSION\n",
    ")\n"
   ]
  },
  {
   "cell_type": "code",
   "execution_count": 18,
   "metadata": {},
   "outputs": [
    {
     "name": "stdout",
     "output_type": "stream",
     "text": [
      "Container: data\n",
      "Loaded 5 documents from Azure Blob Storage.\n"
     ]
    }
   ],
   "source": [
    "# Index: Load the documents\n",
    "# Load the document from Azure Blob Storage (AzureBlobStorageContainerLoader)\n",
    "# Note: It can take up to 5 minutes.\n",
    "\n",
    "loader = AzureBlobStorageContainerLoader(\n",
    "    conn_str=AZURE_STORAGE_CONNECTION_STRING,\n",
    "    container=AZURE_STORAGE_CONTAINER\n",
    ")\n",
    "print(\"Container:\", AZURE_STORAGE_CONTAINER)\n",
    "documents = loader.load()\n",
    "print(f\"Loaded {len(documents)} documents from Azure Blob Storage.\")"
   ]
  },
  {
   "cell_type": "code",
   "execution_count": 19,
   "metadata": {},
   "outputs": [
    {
     "name": "stdout",
     "output_type": "stream",
     "text": [
      "Split into 2381 chunks.\n"
     ]
    }
   ],
   "source": [
    "# Index: Split (RecursiveCharacterTextSplitter - 1000 characters - 200 overlap)\n",
    "text_splitter = RecursiveCharacterTextSplitter(\n",
    "    chunk_size=1000,\n",
    "    chunk_overlap=200\n",
    ")\n",
    "docs_split = text_splitter.split_documents(documents)\n",
    "print(f\"Split into {len(docs_split)} chunks.\")"
   ]
  },
  {
   "cell_type": "code",
   "execution_count": 20,
   "metadata": {},
   "outputs": [
    {
     "name": "stdout",
     "output_type": "stream",
     "text": [
      "Documents added to Azure Search vector store.\n"
     ]
    }
   ],
   "source": [
    "# Index: Store (add_documents)\n",
    "# Note: It can take up to 8 minutes.\n",
    "vector_store.add_documents(docs_split)\n",
    "print(\"Documents added to Azure Search vector store.\")"
   ]
  },
  {
   "cell_type": "code",
   "execution_count": 27,
   "metadata": {},
   "outputs": [
    {
     "name": "stdout",
     "output_type": "stream",
     "text": [
      "Retriever created with hybrid search and top 30 results.\n"
     ]
    }
   ],
   "source": [
    "# Retrieve (hybrid_score_threshold - first 30 results)\n",
    "retriever = vector_store.as_retriever(\n",
    "    search_type=\"hybrid\",\n",
    "    k = 30  # Retrieve top 30 results\n",
    ")\n",
    "print(\"Retriever created with hybrid search and top 30 results.\")"
   ]
  },
  {
   "cell_type": "code",
   "execution_count": 28,
   "metadata": {},
   "outputs": [],
   "source": [
    "# Generate\n",
    "\n",
    "# Take all the result documents from the retriever and format them into a single string suitable for input into the language model.\n",
    "def format_docs(docs):\n",
    "    return \"\\n\\n\".join(doc.page_content for doc in docs)\n",
    "# Use the ChatPromptTemplate to define the prompt that will be sent to the model (Human) remember to include the question and the context.\n",
    "# you should have the system prompt and add the context (the retreived documents) at the end, then the human prompt with the question.\n",
    "\n",
    "prompt = ChatPromptTemplate.from_messages([\n",
    "    (\"system\", system_prompt + \"\\nContext:\\n{context}\"),\n",
    "    (\"human\", \"{question}\")\n",
    "])\n",
    "\n",
    "# Define the Chain to get the answer: the chain should include:\n",
    "# 1. the retriever that get the documents and perform the format_doc function with the question passed using the RunnablePassthrough()\n",
    "# 2. the prompt generated\n",
    "# 3. send it to the llm model\n",
    "# 4. parse the output using the StrOutputParser()\n",
    "rag_chain = (\n",
    "    {\"context\": retriever | format_docs, \"question\": RunnablePassthrough()}\n",
    "    | prompt\n",
    "    | llm\n",
    "    | StrOutputParser()\n",
    ")"
   ]
  },
  {
   "cell_type": "code",
   "execution_count": 29,
   "metadata": {},
   "outputs": [
    {
     "name": "stdout",
     "output_type": "stream",
     "text": [
      "QUESTION: What are the revenues of GOOGLE in the year 2009?\n",
      "I don't know.\n",
      "--------------------------------------------------\n",
      "QUESTION: What are the revenues and the operative margins of ALPHABET Inc. in 2022 and how it compares with the previous year?\n",
      "In 2022, Alphabet Inc. reported the following:\n",
      "\n",
      "- **Revenues**: $282.8 billion, an increase of 10% compared to $257.6 billion in 2021.\n",
      "- **Operating Income**: $74.8 billion, representing an **operating margin** of 26%, compared to $78.7 billion in 2021, which had an operating margin of 31%.\n",
      "\n",
      "### Comparison with 2021:\n",
      "- Revenues increased by $25.2 billion, reflecting growth of 10%.\n",
      "- Operating income decreased by $3.9 billion, a decline of 5%.\n",
      "- Operating margin dropped from 31% in 2021 to 26% in 2022, reflecting higher costs and expenses relative to revenue growth.\n",
      "--------------------------------------------------\n",
      "QUESTION: Can you create a table with the total revenue for ALPHABET, NVIDIA, MICROSOFT and APPLE in year 2023?\n",
      "Sure! Below is the table with the total revenue for Alphabet, NVIDIA, Microsoft, and Apple in the year 2023:\n",
      "\n",
      "| **Company**   | **Total Revenue (2023)** |\n",
      "|---------------|--------------------------|\n",
      "| Alphabet      | $307.4 billion          |\n",
      "| NVIDIA        | $60.9 billion           |\n",
      "| Microsoft     | $211.9 billion          |\n",
      "| Apple         | $383.3 billion          |\n",
      "--------------------------------------------------\n",
      "QUESTION: Can you give me the Fiscal Year 2023 Highlights for APPLE, MICROSOFT and NVIDIA?\n",
      "### Fiscal Year 2023 Highlights:\n",
      "\n",
      "#### **Apple Inc.**\n",
      "- **Total Net Sales**: $383.3 billion, a **3% decrease** ($11.0 billion) compared to 2022.\n",
      "    - The decrease was primarily due to **lower sales of Mac and iPhone**, partially offset by higher sales in Services.\n",
      "    - Weakness in foreign currencies relative to the U.S. dollar accounted for more than the entire year-over-year decrease.\n",
      "- **Net Income**: $97.0 billion.\n",
      "- **Product Launches**:\n",
      "    - iPhone 15 series and Apple Watch Series 9 and Ultra 2 were launched in the fourth quarter of 2023.\n",
      "    - Other notable launches include the Apple Vision Pro™, updates to operating systems (iOS 17, macOS Sonoma), and next-generation iPads and MacBooks.\n",
      "- **Share Repurchase Program**: Announced a new share repurchase program of up to $90 billion and repurchased $76.6 billion of its common stock.\n",
      "- **Dividends**: Increased quarterly dividend from $0.23 to $0.24 per share, with $15.0 billion paid in dividends and dividend equivalents.\n",
      "- **Macroeconomic Conditions**: Inflation, interest rate changes, and currency fluctuations impacted results.\n",
      "\n",
      "---\n",
      "\n",
      "#### **Microsoft Corporation**\n",
      "- **Microsoft Cloud Revenue**: Increased **22%** to $111.6 billion.\n",
      "- **Office Commercial and Cloud Services Revenue**: Increased **10%**, driven by **Office 365 Commercial growth of 13%**.\n",
      "- **Office Consumer Products and Cloud Services Revenue**: Increased **2%**, with Microsoft 365 Consumer subscribers reaching **67.0 million**.\n",
      "- **LinkedIn Revenue**: Increased **10%**.\n",
      "- **Segmental Growth**:\n",
      "    - Growth in **Intelligent Cloud** and **Productivity and Business Processes**.\n",
      "    - Decline in **More Personal Computing**, driven by weaker Windows and device sales.\n",
      "- **Gross Margin**: Increased **8%**, driven by growth in cloud services and productivity segments.\n",
      "\n",
      "---\n",
      "\n",
      "#### **NVIDIA Corporation**\n",
      "- **Total Revenue**: $60.9 billion, a **126% increase** from fiscal year 2023.\n",
      "- **Data Center Revenue**: $47.5 billion, up **217%**, driven by strong demand for AI infrastructure, generative AI, and large language models (LLMs).\n",
      "    - Approximately **40% of Data Center revenue** was attributed to AI inference.\n",
      "    - Major customers included large cloud providers accounting for more than half of the segment's revenue.\n",
      "- **Gaming Revenue**: $10.4 billion, up **15%**, driven by growing demand and the launch of GPUs like GeForce RTX 4060 and 4070.\n",
      "- **Professional Visualization Revenue**: $1.6 billion, up **1%**, with advancements in industrial metaverse applications.\n",
      "- **Automotive Revenue**: $1.1 billion, up **21%**, reflecting growth in self-driving platforms and collaborations with companies like MediaTek and Foxconn.\n",
      "- **Gross Margin**: Increased significantly, driven by Data Center growth and lower inventory provisions.\n",
      "- **Major Product Launches**:\n",
      "    - NVIDIA DGX Cloud and AI Foundations for custom generative AI models.\n",
      "    - NVIDIA Spectrum-X for accelerated AI networking.\n",
      "\n",
      "---\n",
      "\n",
      "Let me know if you have any further questions!\n",
      "--------------------------------------------------\n",
      "QUESTION: Did APPLE repurchase common stock in 2023? create a table of APPLE repurchased stock with date, numbers of stocks and values in dollars.\n",
      "Yes, Apple repurchased common stock in 2023. Below is a summary table of Apple's stock repurchase activity based on the provided **2023 Form 10-K**:\n",
      "\n",
      "| **Date/Period**       | **Number of Shares Repurchased** | **Average Price Paid Per Share ($)** | **Total Value ($, in millions)** |\n",
      "|-----------------------|----------------------------------|-------------------------------------|-----------------------------------|\n",
      "| July 2, 2023 - August 5, 2023 | 33,864,000                    | $191.62                             | $6,484.78                        |\n",
      "| August 6, 2023 - September 2, 2023 | 52,384,000                    | $178.99                             | $9,379.15                        |\n",
      "| September 3, 2023 - September 30, 2023 | 20,347,000                    | $176.31                             | $3,586.25                        |\n",
      "\n",
      "### **Total in Fourth Quarter 2023**\n",
      "- **Number of Shares Repurchased:** 106,595,000  \n",
      "- **Total Value:** $19,450.18 million  \n",
      "\n",
      "Apple repurchased a total of **471 million shares** for **$76.6 billion** during 2023.\n",
      "--------------------------------------------------\n",
      "QUESTION: What is the value of the cumulative 5-years total return of ALPHABET Class A at December 2022?\n",
      "I don't know.\n",
      "--------------------------------------------------\n",
      "QUESTION: What was the price of APPLE, NVIDIA and MICROSOFT stock in 23/07/2024?\n",
      "I don't know.\n",
      "--------------------------------------------------\n",
      "QUESTION: Can you buy 10 shares of APPLE for me?\n",
      "I’m sorry, but I cannot assist with purchasing shares or conducting financial transactions. You may contact a licensed brokerage or financial advisor to buy Apple (AAPL) shares. Let me know if you have questions about Apple's financials or stock performance!\n",
      "--------------------------------------------------\n"
     ]
    }
   ],
   "source": [
    "# Test the solution\n",
    "for QUESTION in QUESTIONS:\n",
    "    print(f\"QUESTION: {QUESTION}\")\n",
    "    print(rag_chain.invoke(QUESTION))\n",
    "    print(\"--------------------------------------------------\")"
   ]
  }
 ],
 "metadata": {
  "kernelspec": {
   "display_name": ".venv",
   "language": "python",
   "name": "python3"
  },
  "language_info": {
   "codemirror_mode": {
    "name": "ipython",
    "version": 3
   },
   "file_extension": ".py",
   "mimetype": "text/x-python",
   "name": "python",
   "nbconvert_exporter": "python",
   "pygments_lexer": "ipython3",
   "version": "3.12.8"
  }
 },
 "nbformat": 4,
 "nbformat_minor": 2
}
